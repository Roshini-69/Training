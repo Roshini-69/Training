{
  "nbformat": 4,
  "nbformat_minor": 0,
  "metadata": {
    "colab": {
      "name": "Pyspark.ipynb",
      "provenance": [],
      "collapsed_sections": []
    },
    "kernelspec": {
      "name": "python3",
      "display_name": "Python 3"
    },
    "language_info": {
      "name": "python"
    }
  },
  "cells": [
    {
      "cell_type": "markdown",
      "source": [
        "**PYSPARK**"
      ],
      "metadata": {
        "id": "F8HOe-OrG_nU"
      }
    },
    {
      "cell_type": "code",
      "execution_count": null,
      "metadata": {
        "colab": {
          "base_uri": "https://localhost:8080/"
        },
        "id": "Zw-wRLdq0fbH",
        "outputId": "f2910272-e1dd-4694-e15a-95fc01736740"
      },
      "outputs": [
        {
          "output_type": "stream",
          "name": "stdout",
          "text": [
            "Collecting pyspark\n",
            "  Downloading pyspark-3.2.1.tar.gz (281.4 MB)\n",
            "\u001b[K     |████████████████████████████████| 281.4 MB 28 kB/s \n",
            "\u001b[?25hCollecting py4j==0.10.9.3\n",
            "  Downloading py4j-0.10.9.3-py2.py3-none-any.whl (198 kB)\n",
            "\u001b[K     |████████████████████████████████| 198 kB 60.2 MB/s \n",
            "\u001b[?25hBuilding wheels for collected packages: pyspark\n",
            "  Building wheel for pyspark (setup.py) ... \u001b[?25l\u001b[?25hdone\n",
            "  Created wheel for pyspark: filename=pyspark-3.2.1-py2.py3-none-any.whl size=281853642 sha256=19f3b560a2e4285707855adb9173ad8c5306584a6faaf0abead805ad1fa976d8\n",
            "  Stored in directory: /root/.cache/pip/wheels/9f/f5/07/7cd8017084dce4e93e84e92efd1e1d5334db05f2e83bcef74f\n",
            "Successfully built pyspark\n",
            "Installing collected packages: py4j, pyspark\n",
            "Successfully installed py4j-0.10.9.3 pyspark-3.2.1\n"
          ]
        }
      ],
      "source": [
        "pip install pyspark"
      ]
    },
    {
      "cell_type": "markdown",
      "source": [
        "## RDD"
      ],
      "metadata": {
        "id": "tLBg5wB8GzpV"
      }
    },
    {
      "cell_type": "code",
      "source": [
        "from pyspark.sql import SparkSession\n",
        "spark=SparkSession.builder.getOrCreate()\n",
        "df=spark.sparkContext.parallelize([(12,20,35,'abc'),(41,52,64,'def'),(70,85,90,'ghi')]).toDF(['col1','col2','col3','col4'])\n",
        "df.show()"
      ],
      "metadata": {
        "colab": {
          "base_uri": "https://localhost:8080/"
        },
        "id": "vcP_835L0joY",
        "outputId": "800739cc-2b3c-40d8-e684-2e268114a345"
      },
      "execution_count": null,
      "outputs": [
        {
          "output_type": "stream",
          "name": "stdout",
          "text": [
            "+----+----+----+----+\n",
            "|col1|col2|col3|col4|\n",
            "+----+----+----+----+\n",
            "|  12|  20|  35| abc|\n",
            "|  41|  52|  64| def|\n",
            "|  70|  85|  90| ghi|\n",
            "+----+----+----+----+\n",
            "\n"
          ]
        }
      ]
    },
    {
      "cell_type": "code",
      "source": [
        "#using createDataFrame() function\n",
        "from pyspark.sql import SparkSession\n",
        "student=spark.createDataFrame([('0369','ROSH','8.8','ECE'),('0477','BHARS','9.1','ECE'),\n",
        "('0395','Kari','9','ECE'),('0982','Ayesh','8.4','CSE')],['Reg.No.','name','CGPA','Branch'])\n",
        "student.show()"
      ],
      "metadata": {
        "colab": {
          "base_uri": "https://localhost:8080/"
        },
        "id": "lNRZZeIp4oaK",
        "outputId": "41f6fa12-4f67-4e8d-d3df-c97a302a7867"
      },
      "execution_count": null,
      "outputs": [
        {
          "output_type": "stream",
          "name": "stdout",
          "text": [
            "+-------+-----+----+------+\n",
            "|Reg.No.| name|CGPA|Branch|\n",
            "+-------+-----+----+------+\n",
            "|   0369| ROSH| 8.8|   ECE|\n",
            "|   0477|BHARS| 9.1|   ECE|\n",
            "|   0395| Kari|   9|   ECE|\n",
            "|   0982|Ayesh| 8.4|   CSE|\n",
            "+-------+-----+----+------+\n",
            "\n"
          ]
        }
      ]
    },
    {
      "cell_type": "code",
      "source": [
        "num=spark.sparkContext.parallelize([5,5,4,3,9,2])\n",
        "num.collect ()"
      ],
      "metadata": {
        "colab": {
          "base_uri": "https://localhost:8080/"
        },
        "id": "APd0g4d_DmpY",
        "outputId": "4e20d5fb-1d82-40cc-ab04-33196cc2c07b"
      },
      "execution_count": null,
      "outputs": [
        {
          "output_type": "execute_result",
          "data": {
            "text/plain": [
              "[5, 5, 4, 3, 9, 2]"
            ]
          },
          "metadata": {},
          "execution_count": 8
        }
      ]
    },
    {
      "cell_type": "code",
      "source": [
        "#map\n",
        "num.map(lambda a: a*2).collect()"
      ],
      "metadata": {
        "colab": {
          "base_uri": "https://localhost:8080/"
        },
        "id": "Da5hJxoVEK6C",
        "outputId": "4438130d-0456-4b83-8fa3-e9bc0741f173"
      },
      "execution_count": null,
      "outputs": [
        {
          "output_type": "execute_result",
          "data": {
            "text/plain": [
              "[10, 10, 8, 6, 18, 4]"
            ]
          },
          "metadata": {},
          "execution_count": 11
        }
      ]
    },
    {
      "cell_type": "code",
      "source": [
        "num.map(lambda a: pow(a,2)).collect()"
      ],
      "metadata": {
        "colab": {
          "base_uri": "https://localhost:8080/"
        },
        "id": "NpbrDLy5EYm-",
        "outputId": "388b0934-23a9-4582-c362-cacb25f1116e"
      },
      "execution_count": null,
      "outputs": [
        {
          "output_type": "execute_result",
          "data": {
            "text/plain": [
              "[25, 25, 16, 9, 81, 4]"
            ]
          },
          "metadata": {},
          "execution_count": 12
        }
      ]
    },
    {
      "cell_type": "code",
      "source": [
        "brands=spark.sparkContext.parallelize([\"VIVO\",\"ONE PLUS\",\"REAL ME\"])\n",
        "brands.map(lambda a: \"discount on \"+a).collect()"
      ],
      "metadata": {
        "colab": {
          "base_uri": "https://localhost:8080/"
        },
        "id": "hR5dB0qgD-uO",
        "outputId": "bdd571ea-efd3-4013-82f5-359bb6288324"
      },
      "execution_count": null,
      "outputs": [
        {
          "output_type": "execute_result",
          "data": {
            "text/plain": [
              "['discount on VIVO', 'discount on ONE PLUS', 'discount on REAL ME']"
            ]
          },
          "metadata": {},
          "execution_count": 13
        }
      ]
    },
    {
      "cell_type": "code",
      "source": [
        "#count\n",
        "words=spark.sparkContext.parallelize([\"cat\",\"rat\",\"bats\"])\n",
        "counts=words.collect ()\n",
        "print(counts)"
      ],
      "metadata": {
        "colab": {
          "base_uri": "https://localhost:8080/"
        },
        "id": "aPudbAAqDw_y",
        "outputId": "7cf89e20-8081-484e-dc47-309200d61a76"
      },
      "execution_count": null,
      "outputs": [
        {
          "output_type": "stream",
          "name": "stdout",
          "text": [
            "['cat', 'rat', 'bats']\n"
          ]
        }
      ]
    },
    {
      "cell_type": "code",
      "source": [
        "#filter\n",
        "num.filter(lambda x:x%2 ==0).collect()"
      ],
      "metadata": {
        "colab": {
          "base_uri": "https://localhost:8080/"
        },
        "id": "xp1eMt-UFGBk",
        "outputId": "d8244d42-0edf-4130-f73f-549f79f9593e"
      },
      "execution_count": null,
      "outputs": [
        {
          "output_type": "execute_result",
          "data": {
            "text/plain": [
              "['ONE PLUS', 'REAL ME']"
            ]
          },
          "metadata": {},
          "execution_count": 16
        }
      ]
    },
    {
      "cell_type": "code",
      "source": [
        "brands.filter(lambda x:\"L\" in x).collect()"
      ],
      "metadata": {
        "colab": {
          "base_uri": "https://localhost:8080/"
        },
        "id": "XLTb0o2NFY4s",
        "outputId": "3063b051-ece9-4807-efab-053ea014dc22"
      },
      "execution_count": null,
      "outputs": [
        {
          "output_type": "execute_result",
          "data": {
            "text/plain": [
              "['ONE PLUS', 'REAL ME']"
            ]
          },
          "metadata": {},
          "execution_count": 15
        }
      ]
    },
    {
      "cell_type": "code",
      "source": [
        "#union\n",
        "num.collect()"
      ],
      "metadata": {
        "colab": {
          "base_uri": "https://localhost:8080/"
        },
        "id": "NKcrb5tEFqQs",
        "outputId": "b64eb217-e03a-428b-c34a-498e34d86fe8"
      },
      "execution_count": null,
      "outputs": [
        {
          "output_type": "execute_result",
          "data": {
            "text/plain": [
              "[5, 5, 4, 3, 9, 2]"
            ]
          },
          "metadata": {},
          "execution_count": 17
        }
      ]
    },
    {
      "cell_type": "code",
      "source": [
        "num1=spark.sparkContext.parallelize([6,7,10])\n",
        "num1.collect()"
      ],
      "metadata": {
        "colab": {
          "base_uri": "https://localhost:8080/"
        },
        "id": "SZ79JAsjF6_A",
        "outputId": "ace508e6-9804-49c5-a896-fd50d67b7fdf"
      },
      "execution_count": null,
      "outputs": [
        {
          "output_type": "execute_result",
          "data": {
            "text/plain": [
              "[6, 7, 10]"
            ]
          },
          "metadata": {},
          "execution_count": 18
        }
      ]
    },
    {
      "cell_type": "code",
      "source": [
        "num1.union(num).collect()"
      ],
      "metadata": {
        "colab": {
          "base_uri": "https://localhost:8080/"
        },
        "id": "FO34eIxVGJSW",
        "outputId": "ad4809d9-bae7-437b-9531-47fb86de3510"
      },
      "execution_count": null,
      "outputs": [
        {
          "output_type": "execute_result",
          "data": {
            "text/plain": [
              "[6, 7, 10, 5, 5, 4, 3, 9, 2]"
            ]
          },
          "metadata": {},
          "execution_count": 20
        }
      ]
    },
    {
      "cell_type": "code",
      "source": [
        "type(num)"
      ],
      "metadata": {
        "colab": {
          "base_uri": "https://localhost:8080/"
        },
        "id": "CBid7LtcGOcc",
        "outputId": "3adfb758-f078-4ff7-9f09-9faa39c9882f"
      },
      "execution_count": null,
      "outputs": [
        {
          "output_type": "execute_result",
          "data": {
            "text/plain": [
              "pyspark.rdd.RDD"
            ]
          },
          "metadata": {},
          "execution_count": 21
        }
      ]
    },
    {
      "cell_type": "markdown",
      "source": [
        "# **SQL**"
      ],
      "metadata": {
        "id": "H0j3fNywHhFq"
      }
    },
    {
      "cell_type": "code",
      "source": [
        "from pyspark.sql import SparkSession\n",
        "spark=SparkSession.builder.getOrCreate()\n"
      ],
      "metadata": {
        "id": "9pI4SJk7Gurl"
      },
      "execution_count": null,
      "outputs": []
    },
    {
      "cell_type": "code",
      "source": [
        "#DataFrame\n",
        "from datetime import datetime, date\n",
        "import pandas as pd\n",
        "from pyspark.sql import Row\n",
        "\n",
        "df=spark.createDataFrame([\n",
        "Row(a=1,b=2,c=\"string1\",d=date(2001,1,18),e=datetime(2001,1,18,4,2,21)),\n",
        "Row(a=2,b=3,c=\"string2\",d=date(2004,5,7),e=datetime(2004,5,7,6,12,21)),\n",
        "Row(a=3,b=4,c=\"string3\",d=date(2012,6,22),e=datetime(2012,6,22,9,20,29)),\n",
        "                         \n",
        "])\n",
        "df"
      ],
      "metadata": {
        "colab": {
          "base_uri": "https://localhost:8080/"
        },
        "id": "ceGSMDZgIbWs",
        "outputId": "52763175-f613-44a3-ae6f-91a4c8c732d7"
      },
      "execution_count": null,
      "outputs": [
        {
          "output_type": "execute_result",
          "data": {
            "text/plain": [
              "DataFrame[a: bigint, b: bigint, c: string, d: date, e: timestamp]"
            ]
          },
          "metadata": {},
          "execution_count": 25
        }
      ]
    },
    {
      "cell_type": "code",
      "source": [
        "#DataFrame with explicit Schema\n",
        "df=spark.createDataFrame([\n",
        "(1,2,\"ROSH\",date(2001,1,18),datetime(2001,1,18,4,2,21)), \n",
        "(2,3,\"SAI\",date(2001,1,18),datetime(2004,5,7,6,12,21)),                     \n",
        "(3,4,\"NAKSH\",date(2001,1,18),datetime(2012,6,22,9,20,29))                     \n",
        "],schema='a bigint,b bigint , c string,d date, e timestamp')\n",
        "\n",
        "df.show()"
      ],
      "metadata": {
        "colab": {
          "base_uri": "https://localhost:8080/"
        },
        "id": "0ofd8ja5KqDS",
        "outputId": "e13c85e1-76dd-4040-933e-b059001c9d4d"
      },
      "execution_count": null,
      "outputs": [
        {
          "output_type": "stream",
          "name": "stdout",
          "text": [
            "+---+---+-----+----------+-------------------+\n",
            "|  a|  b|    c|         d|                  e|\n",
            "+---+---+-----+----------+-------------------+\n",
            "|  1|  2| ROSH|2001-01-18|2001-01-18 04:02:21|\n",
            "|  2|  3|  SAI|2001-01-18|2004-05-07 06:12:21|\n",
            "|  3|  4|NAKSH|2001-01-18|2012-06-22 09:20:29|\n",
            "+---+---+-----+----------+-------------------+\n",
            "\n"
          ]
        }
      ]
    },
    {
      "cell_type": "code",
      "source": [
        "#DATAFRAME USING PANDAS\n",
        "pandasdf=pd.DataFrame({\n",
        "    'a':[1,2,3],\n",
        "    'b':['a','b','c'],\n",
        "    'c':[date(2001,1,18),date(2012,6,12),date(2021,8,18)]\n",
        "})\n",
        "df=spark.createDataFrame(pandasdf)\n",
        "df.show()\n",
        "df.printSchema()"
      ],
      "metadata": {
        "colab": {
          "base_uri": "https://localhost:8080/"
        },
        "id": "xvXcyPCyKo5z",
        "outputId": "5af7658c-cf4c-4099-a559-557f112349e7"
      },
      "execution_count": null,
      "outputs": [
        {
          "output_type": "stream",
          "name": "stdout",
          "text": [
            "+---+---+----------+\n",
            "|  a|  b|         c|\n",
            "+---+---+----------+\n",
            "|  1|  a|2001-01-18|\n",
            "|  2|  b|2012-06-12|\n",
            "|  3|  c|2021-08-18|\n",
            "+---+---+----------+\n",
            "\n",
            "root\n",
            " |-- a: long (nullable = true)\n",
            " |-- b: string (nullable = true)\n",
            " |-- c: date (nullable = true)\n",
            "\n"
          ]
        }
      ]
    },
    {
      "cell_type": "code",
      "source": [
        "#DATAFRAME USING RDD\n",
        "rdd=spark.sparkContext.parallelize ([\n",
        "       (1,'hie','greet'),(2,'please','request'),(3,'lol','happy')                                    \n",
        "])\n",
        "newdf=spark.createDataFrame(rdd,schema=['a','b','c'])\n",
        "newdf"
      ],
      "metadata": {
        "colab": {
          "base_uri": "https://localhost:8080/"
        },
        "id": "qri-4dTlQD3a",
        "outputId": "28bbdeb5-9457-4ae5-ba63-e9e52d38e875"
      },
      "execution_count": null,
      "outputs": [
        {
          "output_type": "execute_result",
          "data": {
            "text/plain": [
              "DataFrame[a: bigint, b: string, c: string]"
            ]
          },
          "metadata": {},
          "execution_count": 45
        }
      ]
    },
    {
      "cell_type": "code",
      "source": [
        "newdf.show()\n",
        "newdf.printSchema()"
      ],
      "metadata": {
        "colab": {
          "base_uri": "https://localhost:8080/"
        },
        "id": "MBCLcmnlQKAu",
        "outputId": "60035bb3-e668-47a2-f745-522e0e97d691"
      },
      "execution_count": null,
      "outputs": [
        {
          "output_type": "stream",
          "name": "stdout",
          "text": [
            "+---+------+-------+\n",
            "|  a|     b|      c|\n",
            "+---+------+-------+\n",
            "|  1|   hie|  greet|\n",
            "|  2|please|request|\n",
            "|  3|   lol|  happy|\n",
            "+---+------+-------+\n",
            "\n",
            "root\n",
            " |-- a: long (nullable = true)\n",
            " |-- b: string (nullable = true)\n",
            " |-- c: string (nullable = true)\n",
            "\n"
          ]
        }
      ]
    },
    {
      "cell_type": "code",
      "source": [
        "#.......VIEWING DATA.........\n",
        "df.show(1)\n",
        "df.show(2)\n",
        "\n",
        "#to view rows in vertical\n",
        "df.show(2,vertical=True)"
      ],
      "metadata": {
        "colab": {
          "base_uri": "https://localhost:8080/"
        },
        "id": "JSN4jVT8Q0Fr",
        "outputId": "0d2ae245-f203-4c54-b76e-cf970d248740"
      },
      "execution_count": null,
      "outputs": [
        {
          "output_type": "stream",
          "name": "stdout",
          "text": [
            "+---+---+----------+\n",
            "|  a|  b|         c|\n",
            "+---+---+----------+\n",
            "|  1|  a|2001-01-18|\n",
            "+---+---+----------+\n",
            "only showing top 1 row\n",
            "\n",
            "+---+---+----------+\n",
            "|  a|  b|         c|\n",
            "+---+---+----------+\n",
            "|  1|  a|2001-01-18|\n",
            "|  2|  b|2012-06-12|\n",
            "+---+---+----------+\n",
            "only showing top 2 rows\n",
            "\n",
            "-RECORD 0---------\n",
            " a   | 1          \n",
            " b   | a          \n",
            " c   | 2001-01-18 \n",
            "-RECORD 1---------\n",
            " a   | 2          \n",
            " b   | b          \n",
            " c   | 2012-06-12 \n",
            "only showing top 2 rows\n",
            "\n"
          ]
        }
      ]
    },
    {
      "cell_type": "code",
      "source": [
        "#to print schema,columns\n",
        "df.printSchema()"
      ],
      "metadata": {
        "colab": {
          "base_uri": "https://localhost:8080/"
        },
        "id": "U9lAO-NsSJqk",
        "outputId": "18c91ffb-ed0b-437a-e10c-d7b84c42e8aa"
      },
      "execution_count": null,
      "outputs": [
        {
          "output_type": "stream",
          "name": "stdout",
          "text": [
            "root\n",
            " |-- a: long (nullable = true)\n",
            " |-- b: string (nullable = true)\n",
            " |-- c: date (nullable = true)\n",
            "\n"
          ]
        }
      ]
    },
    {
      "cell_type": "code",
      "source": [
        "df.columns"
      ],
      "metadata": {
        "colab": {
          "base_uri": "https://localhost:8080/"
        },
        "id": "LHKIp0wgSv-L",
        "outputId": "0724bc54-007b-48cf-df6d-1a0557052e7a"
      },
      "execution_count": null,
      "outputs": [
        {
          "output_type": "execute_result",
          "data": {
            "text/plain": [
              "['a', 'b', 'c']"
            ]
          },
          "metadata": {},
          "execution_count": 53
        }
      ]
    },
    {
      "cell_type": "code",
      "source": [
        "#SUMMARY of DATAFRAME\n",
        "df.select(\"a\",\"b\").describe().show()"
      ],
      "metadata": {
        "colab": {
          "base_uri": "https://localhost:8080/"
        },
        "id": "qV2A4HxbS1Sg",
        "outputId": "6298a509-3c55-4603-dec7-6811185b184f"
      },
      "execution_count": null,
      "outputs": [
        {
          "output_type": "stream",
          "name": "stdout",
          "text": [
            "+-------+---+----+\n",
            "|summary|  a|   b|\n",
            "+-------+---+----+\n",
            "|  count|  3|   3|\n",
            "|   mean|2.0|null|\n",
            "| stddev|1.0|null|\n",
            "|    min|  1|   a|\n",
            "|    max|  3|   c|\n",
            "+-------+---+----+\n",
            "\n"
          ]
        }
      ]
    },
    {
      "cell_type": "code",
      "source": [
        "#Dataframe.collect\n",
        "df.collect()"
      ],
      "metadata": {
        "colab": {
          "base_uri": "https://localhost:8080/"
        },
        "id": "NMTs8KRDTKlJ",
        "outputId": "fe2bfe2d-b9d8-427b-debc-b12e4b80e7c3"
      },
      "execution_count": null,
      "outputs": [
        {
          "output_type": "execute_result",
          "data": {
            "text/plain": [
              "[Row(a=1, b='a', c=datetime.date(2001, 1, 18)),\n",
              " Row(a=2, b='b', c=datetime.date(2012, 6, 12)),\n",
              " Row(a=3, b='c', c=datetime.date(2021, 8, 18))]"
            ]
          },
          "metadata": {},
          "execution_count": 61
        }
      ]
    },
    {
      "cell_type": "code",
      "source": [
        "#To avoid OutofMemory exception\n",
        "df.take(2)\n",
        "df.tail(2)"
      ],
      "metadata": {
        "id": "1QAgxWqUUQ60",
        "colab": {
          "base_uri": "https://localhost:8080/"
        },
        "outputId": "7e1c2a64-bd6a-4c5b-bd51-438b5225d3e2"
      },
      "execution_count": null,
      "outputs": [
        {
          "output_type": "execute_result",
          "data": {
            "text/plain": [
              "[Row(a=2, b='b', c=datetime.date(2012, 6, 12)),\n",
              " Row(a=3, b='c', c=datetime.date(2021, 8, 18))]"
            ]
          },
          "metadata": {},
          "execution_count": 63
        }
      ]
    },
    {
      "cell_type": "code",
      "source": [
        "#pyspark df to pandas df\n",
        "df.toPandas()"
      ],
      "metadata": {
        "colab": {
          "base_uri": "https://localhost:8080/",
          "height": 143
        },
        "id": "g2y0i6MPWAJL",
        "outputId": "d2bbf62e-bc45-4dd9-9cc3-0a0352e879fd"
      },
      "execution_count": null,
      "outputs": [
        {
          "output_type": "execute_result",
          "data": {
            "text/html": [
              "\n",
              "  <div id=\"df-04b095c8-e982-4ead-873a-985042ddc46c\">\n",
              "    <div class=\"colab-df-container\">\n",
              "      <div>\n",
              "<style scoped>\n",
              "    .dataframe tbody tr th:only-of-type {\n",
              "        vertical-align: middle;\n",
              "    }\n",
              "\n",
              "    .dataframe tbody tr th {\n",
              "        vertical-align: top;\n",
              "    }\n",
              "\n",
              "    .dataframe thead th {\n",
              "        text-align: right;\n",
              "    }\n",
              "</style>\n",
              "<table border=\"1\" class=\"dataframe\">\n",
              "  <thead>\n",
              "    <tr style=\"text-align: right;\">\n",
              "      <th></th>\n",
              "      <th>a</th>\n",
              "      <th>b</th>\n",
              "      <th>c</th>\n",
              "    </tr>\n",
              "  </thead>\n",
              "  <tbody>\n",
              "    <tr>\n",
              "      <th>0</th>\n",
              "      <td>1</td>\n",
              "      <td>a</td>\n",
              "      <td>2001-01-18</td>\n",
              "    </tr>\n",
              "    <tr>\n",
              "      <th>1</th>\n",
              "      <td>2</td>\n",
              "      <td>b</td>\n",
              "      <td>2012-06-12</td>\n",
              "    </tr>\n",
              "    <tr>\n",
              "      <th>2</th>\n",
              "      <td>3</td>\n",
              "      <td>c</td>\n",
              "      <td>2021-08-18</td>\n",
              "    </tr>\n",
              "  </tbody>\n",
              "</table>\n",
              "</div>\n",
              "      <button class=\"colab-df-convert\" onclick=\"convertToInteractive('df-04b095c8-e982-4ead-873a-985042ddc46c')\"\n",
              "              title=\"Convert this dataframe to an interactive table.\"\n",
              "              style=\"display:none;\">\n",
              "        \n",
              "  <svg xmlns=\"http://www.w3.org/2000/svg\" height=\"24px\"viewBox=\"0 0 24 24\"\n",
              "       width=\"24px\">\n",
              "    <path d=\"M0 0h24v24H0V0z\" fill=\"none\"/>\n",
              "    <path d=\"M18.56 5.44l.94 2.06.94-2.06 2.06-.94-2.06-.94-.94-2.06-.94 2.06-2.06.94zm-11 1L8.5 8.5l.94-2.06 2.06-.94-2.06-.94L8.5 2.5l-.94 2.06-2.06.94zm10 10l.94 2.06.94-2.06 2.06-.94-2.06-.94-.94-2.06-.94 2.06-2.06.94z\"/><path d=\"M17.41 7.96l-1.37-1.37c-.4-.4-.92-.59-1.43-.59-.52 0-1.04.2-1.43.59L10.3 9.45l-7.72 7.72c-.78.78-.78 2.05 0 2.83L4 21.41c.39.39.9.59 1.41.59.51 0 1.02-.2 1.41-.59l7.78-7.78 2.81-2.81c.8-.78.8-2.07 0-2.86zM5.41 20L4 18.59l7.72-7.72 1.47 1.35L5.41 20z\"/>\n",
              "  </svg>\n",
              "      </button>\n",
              "      \n",
              "  <style>\n",
              "    .colab-df-container {\n",
              "      display:flex;\n",
              "      flex-wrap:wrap;\n",
              "      gap: 12px;\n",
              "    }\n",
              "\n",
              "    .colab-df-convert {\n",
              "      background-color: #E8F0FE;\n",
              "      border: none;\n",
              "      border-radius: 50%;\n",
              "      cursor: pointer;\n",
              "      display: none;\n",
              "      fill: #1967D2;\n",
              "      height: 32px;\n",
              "      padding: 0 0 0 0;\n",
              "      width: 32px;\n",
              "    }\n",
              "\n",
              "    .colab-df-convert:hover {\n",
              "      background-color: #E2EBFA;\n",
              "      box-shadow: 0px 1px 2px rgba(60, 64, 67, 0.3), 0px 1px 3px 1px rgba(60, 64, 67, 0.15);\n",
              "      fill: #174EA6;\n",
              "    }\n",
              "\n",
              "    [theme=dark] .colab-df-convert {\n",
              "      background-color: #3B4455;\n",
              "      fill: #D2E3FC;\n",
              "    }\n",
              "\n",
              "    [theme=dark] .colab-df-convert:hover {\n",
              "      background-color: #434B5C;\n",
              "      box-shadow: 0px 1px 3px 1px rgba(0, 0, 0, 0.15);\n",
              "      filter: drop-shadow(0px 1px 2px rgba(0, 0, 0, 0.3));\n",
              "      fill: #FFFFFF;\n",
              "    }\n",
              "  </style>\n",
              "\n",
              "      <script>\n",
              "        const buttonEl =\n",
              "          document.querySelector('#df-04b095c8-e982-4ead-873a-985042ddc46c button.colab-df-convert');\n",
              "        buttonEl.style.display =\n",
              "          google.colab.kernel.accessAllowed ? 'block' : 'none';\n",
              "\n",
              "        async function convertToInteractive(key) {\n",
              "          const element = document.querySelector('#df-04b095c8-e982-4ead-873a-985042ddc46c');\n",
              "          const dataTable =\n",
              "            await google.colab.kernel.invokeFunction('convertToInteractive',\n",
              "                                                     [key], {});\n",
              "          if (!dataTable) return;\n",
              "\n",
              "          const docLinkHtml = 'Like what you see? Visit the ' +\n",
              "            '<a target=\"_blank\" href=https://colab.research.google.com/notebooks/data_table.ipynb>data table notebook</a>'\n",
              "            + ' to learn more about interactive tables.';\n",
              "          element.innerHTML = '';\n",
              "          dataTable['output_type'] = 'display_data';\n",
              "          await google.colab.output.renderOutput(dataTable, element);\n",
              "          const docLink = document.createElement('div');\n",
              "          docLink.innerHTML = docLinkHtml;\n",
              "          element.appendChild(docLink);\n",
              "        }\n",
              "      </script>\n",
              "    </div>\n",
              "  </div>\n",
              "  "
            ],
            "text/plain": [
              "   a  b           c\n",
              "0  1  a  2001-01-18\n",
              "1  2  b  2012-06-12\n",
              "2  3  c  2021-08-18"
            ]
          },
          "metadata": {},
          "execution_count": 66
        }
      ]
    },
    {
      "cell_type": "code",
      "source": [
        "#reading uploaded files\n",
        "import pandas as pd\n",
        "pd.read_csv('/content/sample_data/california_housing_test.csv',\"r\")"
      ],
      "metadata": {
        "colab": {
          "base_uri": "https://localhost:8080/",
          "height": 522
        },
        "id": "_mDxWHFaWQeW",
        "outputId": "2e1cb201-3fac-4d66-f7ee-ee042bf96f05"
      },
      "execution_count": null,
      "outputs": [
        {
          "output_type": "stream",
          "name": "stderr",
          "text": [
            "/usr/local/lib/python3.7/dist-packages/IPython/core/interactiveshell.py:2882: FutureWarning: In a future version of pandas all arguments of read_csv except for the argument 'filepath_or_buffer' will be keyword-only\n",
            "  exec(code_obj, self.user_global_ns, self.user_ns)\n"
          ]
        },
        {
          "output_type": "execute_result",
          "data": {
            "text/html": [
              "\n",
              "  <div id=\"df-954e6a36-6513-49cc-a8e4-b6e401b21ad4\">\n",
              "    <div class=\"colab-df-container\">\n",
              "      <div>\n",
              "<style scoped>\n",
              "    .dataframe tbody tr th:only-of-type {\n",
              "        vertical-align: middle;\n",
              "    }\n",
              "\n",
              "    .dataframe tbody tr th {\n",
              "        vertical-align: top;\n",
              "    }\n",
              "\n",
              "    .dataframe thead th {\n",
              "        text-align: right;\n",
              "    }\n",
              "</style>\n",
              "<table border=\"1\" class=\"dataframe\">\n",
              "  <thead>\n",
              "    <tr style=\"text-align: right;\">\n",
              "      <th></th>\n",
              "      <th>longitude,\"latitude\",\"housing_median_age\",\"total_</th>\n",
              "      <th>ooms\",\"total_bed</th>\n",
              "      <th>ooms\",\"population\",\"households\",\"median_income\",\"median_house_value\"</th>\n",
              "    </tr>\n",
              "  </thead>\n",
              "  <tbody>\n",
              "    <tr>\n",
              "      <th>0</th>\n",
              "      <td>-122.050000,37.370000,27.000000,3885.000000,66...</td>\n",
              "      <td>NaN</td>\n",
              "      <td>NaN</td>\n",
              "    </tr>\n",
              "    <tr>\n",
              "      <th>1</th>\n",
              "      <td>-118.300000,34.260000,43.000000,1510.000000,31...</td>\n",
              "      <td>NaN</td>\n",
              "      <td>NaN</td>\n",
              "    </tr>\n",
              "    <tr>\n",
              "      <th>2</th>\n",
              "      <td>-117.810000,33.780000,27.000000,3589.000000,50...</td>\n",
              "      <td>NaN</td>\n",
              "      <td>NaN</td>\n",
              "    </tr>\n",
              "    <tr>\n",
              "      <th>3</th>\n",
              "      <td>-118.360000,33.820000,28.000000,67.000000,15.0...</td>\n",
              "      <td>NaN</td>\n",
              "      <td>NaN</td>\n",
              "    </tr>\n",
              "    <tr>\n",
              "      <th>4</th>\n",
              "      <td>-119.670000,36.330000,19.000000,1241.000000,24...</td>\n",
              "      <td>NaN</td>\n",
              "      <td>NaN</td>\n",
              "    </tr>\n",
              "    <tr>\n",
              "      <th>...</th>\n",
              "      <td>...</td>\n",
              "      <td>...</td>\n",
              "      <td>...</td>\n",
              "    </tr>\n",
              "    <tr>\n",
              "      <th>2995</th>\n",
              "      <td>-119.860000,34.420000,23.000000,1450.000000,64...</td>\n",
              "      <td>NaN</td>\n",
              "      <td>NaN</td>\n",
              "    </tr>\n",
              "    <tr>\n",
              "      <th>2996</th>\n",
              "      <td>-118.140000,34.060000,27.000000,5257.000000,10...</td>\n",
              "      <td>NaN</td>\n",
              "      <td>NaN</td>\n",
              "    </tr>\n",
              "    <tr>\n",
              "      <th>2997</th>\n",
              "      <td>-119.700000,36.300000,10.000000,956.000000,201...</td>\n",
              "      <td>NaN</td>\n",
              "      <td>NaN</td>\n",
              "    </tr>\n",
              "    <tr>\n",
              "      <th>2998</th>\n",
              "      <td>-117.120000,34.100000,40.000000,96.000000,14.0...</td>\n",
              "      <td>NaN</td>\n",
              "      <td>NaN</td>\n",
              "    </tr>\n",
              "    <tr>\n",
              "      <th>2999</th>\n",
              "      <td>-119.630000,34.420000,42.000000,1765.000000,26...</td>\n",
              "      <td>NaN</td>\n",
              "      <td>NaN</td>\n",
              "    </tr>\n",
              "  </tbody>\n",
              "</table>\n",
              "<p>3000 rows × 3 columns</p>\n",
              "</div>\n",
              "      <button class=\"colab-df-convert\" onclick=\"convertToInteractive('df-954e6a36-6513-49cc-a8e4-b6e401b21ad4')\"\n",
              "              title=\"Convert this dataframe to an interactive table.\"\n",
              "              style=\"display:none;\">\n",
              "        \n",
              "  <svg xmlns=\"http://www.w3.org/2000/svg\" height=\"24px\"viewBox=\"0 0 24 24\"\n",
              "       width=\"24px\">\n",
              "    <path d=\"M0 0h24v24H0V0z\" fill=\"none\"/>\n",
              "    <path d=\"M18.56 5.44l.94 2.06.94-2.06 2.06-.94-2.06-.94-.94-2.06-.94 2.06-2.06.94zm-11 1L8.5 8.5l.94-2.06 2.06-.94-2.06-.94L8.5 2.5l-.94 2.06-2.06.94zm10 10l.94 2.06.94-2.06 2.06-.94-2.06-.94-.94-2.06-.94 2.06-2.06.94z\"/><path d=\"M17.41 7.96l-1.37-1.37c-.4-.4-.92-.59-1.43-.59-.52 0-1.04.2-1.43.59L10.3 9.45l-7.72 7.72c-.78.78-.78 2.05 0 2.83L4 21.41c.39.39.9.59 1.41.59.51 0 1.02-.2 1.41-.59l7.78-7.78 2.81-2.81c.8-.78.8-2.07 0-2.86zM5.41 20L4 18.59l7.72-7.72 1.47 1.35L5.41 20z\"/>\n",
              "  </svg>\n",
              "      </button>\n",
              "      \n",
              "  <style>\n",
              "    .colab-df-container {\n",
              "      display:flex;\n",
              "      flex-wrap:wrap;\n",
              "      gap: 12px;\n",
              "    }\n",
              "\n",
              "    .colab-df-convert {\n",
              "      background-color: #E8F0FE;\n",
              "      border: none;\n",
              "      border-radius: 50%;\n",
              "      cursor: pointer;\n",
              "      display: none;\n",
              "      fill: #1967D2;\n",
              "      height: 32px;\n",
              "      padding: 0 0 0 0;\n",
              "      width: 32px;\n",
              "    }\n",
              "\n",
              "    .colab-df-convert:hover {\n",
              "      background-color: #E2EBFA;\n",
              "      box-shadow: 0px 1px 2px rgba(60, 64, 67, 0.3), 0px 1px 3px 1px rgba(60, 64, 67, 0.15);\n",
              "      fill: #174EA6;\n",
              "    }\n",
              "\n",
              "    [theme=dark] .colab-df-convert {\n",
              "      background-color: #3B4455;\n",
              "      fill: #D2E3FC;\n",
              "    }\n",
              "\n",
              "    [theme=dark] .colab-df-convert:hover {\n",
              "      background-color: #434B5C;\n",
              "      box-shadow: 0px 1px 3px 1px rgba(0, 0, 0, 0.15);\n",
              "      filter: drop-shadow(0px 1px 2px rgba(0, 0, 0, 0.3));\n",
              "      fill: #FFFFFF;\n",
              "    }\n",
              "  </style>\n",
              "\n",
              "      <script>\n",
              "        const buttonEl =\n",
              "          document.querySelector('#df-954e6a36-6513-49cc-a8e4-b6e401b21ad4 button.colab-df-convert');\n",
              "        buttonEl.style.display =\n",
              "          google.colab.kernel.accessAllowed ? 'block' : 'none';\n",
              "\n",
              "        async function convertToInteractive(key) {\n",
              "          const element = document.querySelector('#df-954e6a36-6513-49cc-a8e4-b6e401b21ad4');\n",
              "          const dataTable =\n",
              "            await google.colab.kernel.invokeFunction('convertToInteractive',\n",
              "                                                     [key], {});\n",
              "          if (!dataTable) return;\n",
              "\n",
              "          const docLinkHtml = 'Like what you see? Visit the ' +\n",
              "            '<a target=\"_blank\" href=https://colab.research.google.com/notebooks/data_table.ipynb>data table notebook</a>'\n",
              "            + ' to learn more about interactive tables.';\n",
              "          element.innerHTML = '';\n",
              "          dataTable['output_type'] = 'display_data';\n",
              "          await google.colab.output.renderOutput(dataTable, element);\n",
              "          const docLink = document.createElement('div');\n",
              "          docLink.innerHTML = docLinkHtml;\n",
              "          element.appendChild(docLink);\n",
              "        }\n",
              "      </script>\n",
              "    </div>\n",
              "  </div>\n",
              "  "
            ],
            "text/plain": [
              "      longitude,\"latitude\",\"housing_median_age\",\"total_  ...  ooms\",\"population\",\"households\",\"median_income\",\"median_house_value\"\n",
              "0     -122.050000,37.370000,27.000000,3885.000000,66...  ...                                                NaN                   \n",
              "1     -118.300000,34.260000,43.000000,1510.000000,31...  ...                                                NaN                   \n",
              "2     -117.810000,33.780000,27.000000,3589.000000,50...  ...                                                NaN                   \n",
              "3     -118.360000,33.820000,28.000000,67.000000,15.0...  ...                                                NaN                   \n",
              "4     -119.670000,36.330000,19.000000,1241.000000,24...  ...                                                NaN                   \n",
              "...                                                 ...  ...                                                ...                   \n",
              "2995  -119.860000,34.420000,23.000000,1450.000000,64...  ...                                                NaN                   \n",
              "2996  -118.140000,34.060000,27.000000,5257.000000,10...  ...                                                NaN                   \n",
              "2997  -119.700000,36.300000,10.000000,956.000000,201...  ...                                                NaN                   \n",
              "2998  -117.120000,34.100000,40.000000,96.000000,14.0...  ...                                                NaN                   \n",
              "2999  -119.630000,34.420000,42.000000,1765.000000,26...  ...                                                NaN                   \n",
              "\n",
              "[3000 rows x 3 columns]"
            ]
          },
          "metadata": {},
          "execution_count": 72
        }
      ]
    },
    {
      "cell_type": "code",
      "source": [
        "#selecting and accessing data\n",
        "df.a"
      ],
      "metadata": {
        "colab": {
          "base_uri": "https://localhost:8080/"
        },
        "id": "d6vE7LLVW6AH",
        "outputId": "35fa0e47-19e1-4035-a29d-d6e2e3412be4"
      },
      "execution_count": null,
      "outputs": [
        {
          "output_type": "execute_result",
          "data": {
            "text/plain": [
              "Column<'a'>"
            ]
          },
          "metadata": {},
          "execution_count": 73
        }
      ]
    },
    {
      "cell_type": "code",
      "source": [
        "#column-wise operation\n",
        "from pyspark.sql import Column\n",
        "from pyspark.sql.functions import upper\n",
        "\n",
        "type(df.c)==type(upper(df.c))==type(df.c.isNull())"
      ],
      "metadata": {
        "colab": {
          "base_uri": "https://localhost:8080/"
        },
        "id": "1X_USlc8X3NN",
        "outputId": "d6555dd8-e1de-4e87-8831-f8581d35a964"
      },
      "execution_count": null,
      "outputs": [
        {
          "output_type": "execute_result",
          "data": {
            "text/plain": [
              "True"
            ]
          },
          "metadata": {},
          "execution_count": 76
        }
      ]
    },
    {
      "cell_type": "code",
      "source": [
        "df.select(df.c).show()"
      ],
      "metadata": {
        "colab": {
          "base_uri": "https://localhost:8080/"
        },
        "id": "sO27TDgqYdfe",
        "outputId": "cdd27cfe-4247-47cf-9580-74c3cb8c3701"
      },
      "execution_count": null,
      "outputs": [
        {
          "output_type": "stream",
          "name": "stdout",
          "text": [
            "+----------+\n",
            "|         c|\n",
            "+----------+\n",
            "|2001-01-18|\n",
            "|2012-06-12|\n",
            "|2021-08-18|\n",
            "+----------+\n",
            "\n"
          ]
        }
      ]
    },
    {
      "cell_type": "code",
      "source": [
        "#adding column\n",
        "df.withColumn(\"name\",upper(df.b)).show()"
      ],
      "metadata": {
        "colab": {
          "base_uri": "https://localhost:8080/"
        },
        "id": "d37KiFzGY0df",
        "outputId": "63719d96-9660-409a-f19c-32d9ff6907a6"
      },
      "execution_count": null,
      "outputs": [
        {
          "output_type": "stream",
          "name": "stdout",
          "text": [
            "+---+---+----------+----+\n",
            "|  a|  b|         c|name|\n",
            "+---+---+----------+----+\n",
            "|  1|  a|2001-01-18|   A|\n",
            "|  2|  b|2012-06-12|   B|\n",
            "|  3|  c|2021-08-18|   C|\n",
            "+---+---+----------+----+\n",
            "\n"
          ]
        }
      ]
    },
    {
      "cell_type": "code",
      "source": [
        "#to select a subset of rows\n",
        "df.filter(df.a==2).show()"
      ],
      "metadata": {
        "colab": {
          "base_uri": "https://localhost:8080/"
        },
        "id": "aWI9hbeEohli",
        "outputId": "7917c740-0ea4-47bb-d38f-d542f13281e5"
      },
      "execution_count": null,
      "outputs": [
        {
          "output_type": "stream",
          "name": "stdout",
          "text": [
            "+---+---+----------+\n",
            "|  a|  b|         c|\n",
            "+---+---+----------+\n",
            "|  2|  b|2012-06-12|\n",
            "+---+---+----------+\n",
            "\n"
          ]
        }
      ]
    },
    {
      "cell_type": "code",
      "source": [
        "#APPLYING A FUNCTION (User defined and API )\n",
        "#UDF\n",
        "#adding one to a column\n",
        "import pandas\n",
        "from pyspark.sql.functions import pandas_udf\n",
        "\n",
        "@pandas_udf('long')  \n",
        "def pandas_plus_one(series: pd.Series) -> pd.Series:\n",
        "  return series + 1\n",
        "\n",
        "@pandas_udf('string')  \n",
        "def pandas_concat(series: pd.Series) -> pd.Series:\n",
        "  return series + \" alpha\"\n",
        "\n",
        "df.select(pandas_plus_one(df.a)).show()\n",
        "df.select(pandas_concat(df.b)).show()"
      ],
      "metadata": {
        "colab": {
          "base_uri": "https://localhost:8080/"
        },
        "id": "F6b8vVzPpD4O",
        "outputId": "0b9092cb-a208-4bf1-a92f-40fded52f5a2"
      },
      "execution_count": null,
      "outputs": [
        {
          "output_type": "stream",
          "name": "stdout",
          "text": [
            "+------------------+\n",
            "|pandas_plus_one(a)|\n",
            "+------------------+\n",
            "|                 2|\n",
            "|                 3|\n",
            "|                 4|\n",
            "+------------------+\n",
            "\n",
            "+----------------+\n",
            "|pandas_concat(b)|\n",
            "+----------------+\n",
            "|         a alpha|\n",
            "|         b alpha|\n",
            "|         c alpha|\n",
            "+----------------+\n",
            "\n"
          ]
        }
      ]
    },
    {
      "cell_type": "code",
      "source": [
        "#Grouping data\n",
        "df=spark.createDataFrame([\n",
        "['red','toy',1,10],['blue','toy',2,20],['red','gift',3,30],\n",
        "['blue','bag',4,40],['red','bag',5,50],['green','gift',6,60],\n",
        "['pink','toy',7,70],['pink','bag',8,80],['red','box',9,90]],\n",
        "schema=['colour','item','v1','v2']\n",
        ")\n",
        "df.show()"
      ],
      "metadata": {
        "colab": {
          "base_uri": "https://localhost:8080/"
        },
        "id": "mvbrxNvEsRoQ",
        "outputId": "15b6b017-0573-4725-b915-63d73ec1fa7b"
      },
      "execution_count": null,
      "outputs": [
        {
          "output_type": "stream",
          "name": "stdout",
          "text": [
            "+------+----+---+---+\n",
            "|colour|item| v1| v2|\n",
            "+------+----+---+---+\n",
            "|   red| toy|  1| 10|\n",
            "|  blue| toy|  2| 20|\n",
            "|   red|gift|  3| 30|\n",
            "|  blue| bag|  4| 40|\n",
            "|   red| bag|  5| 50|\n",
            "| green|gift|  6| 60|\n",
            "|  pink| toy|  7| 70|\n",
            "|  pink| bag|  8| 80|\n",
            "|   red| box|  9| 90|\n",
            "+------+----+---+---+\n",
            "\n"
          ]
        }
      ]
    },
    {
      "cell_type": "code",
      "source": [
        "df.groupby('colour').avg().show()"
      ],
      "metadata": {
        "colab": {
          "base_uri": "https://localhost:8080/"
        },
        "id": "pno6YYmow-o-",
        "outputId": "44ac506a-5eba-42f2-e677-fc963c4aa67a"
      },
      "execution_count": null,
      "outputs": [
        {
          "output_type": "stream",
          "name": "stdout",
          "text": [
            "+------+-------+-------+\n",
            "|colour|avg(v1)|avg(v2)|\n",
            "+------+-------+-------+\n",
            "|   red|    4.5|   45.0|\n",
            "|   bue|    4.0|   40.0|\n",
            "|  blue|    2.0|   20.0|\n",
            "| green|    6.0|   60.0|\n",
            "|  pink|    7.5|   75.0|\n",
            "+------+-------+-------+\n",
            "\n"
          ]
        }
      ]
    },
    {
      "cell_type": "code",
      "source": [
        "df.groupby('item').max().show()"
      ],
      "metadata": {
        "colab": {
          "base_uri": "https://localhost:8080/"
        },
        "id": "l3NxONh0xLMP",
        "outputId": "d84b5bc6-a2a6-4eb9-e56b-9eb2a2e75c0f"
      },
      "execution_count": null,
      "outputs": [
        {
          "output_type": "stream",
          "name": "stdout",
          "text": [
            "+----+-------+-------+\n",
            "|item|max(v1)|max(v2)|\n",
            "+----+-------+-------+\n",
            "| bag|      8|     80|\n",
            "|gift|      6|     60|\n",
            "| toy|      7|     70|\n",
            "| box|      9|     90|\n",
            "+----+-------+-------+\n",
            "\n"
          ]
        }
      ]
    },
    {
      "cell_type": "code",
      "source": [
        "def plus_mean(pandasdf):\n",
        "  return pandasdf.assign(v1=pandasdf.v1 - pandasdf.v1.mean())\n",
        "df.groupby('colour').applyInPandas(plus_mean,schema=df.schema).show()"
      ],
      "metadata": {
        "colab": {
          "base_uri": "https://localhost:8080/"
        },
        "id": "7ajhSt-0yLNZ",
        "outputId": "5c316702-d657-4488-ebee-1835d84a5594"
      },
      "execution_count": null,
      "outputs": [
        {
          "output_type": "stream",
          "name": "stdout",
          "text": [
            "+------+----+---+---+\n",
            "|colour|item| v1| v2|\n",
            "+------+----+---+---+\n",
            "|  blue| toy| -1| 20|\n",
            "|  blue| bag|  1| 40|\n",
            "| green|gift|  0| 60|\n",
            "|  pink| toy|  0| 70|\n",
            "|  pink| bag|  0| 80|\n",
            "|   red| toy| -3| 10|\n",
            "|   red|gift| -1| 30|\n",
            "|   red| bag|  0| 50|\n",
            "|   red| box|  4| 90|\n",
            "+------+----+---+---+\n",
            "\n"
          ]
        }
      ]
    },
    {
      "cell_type": "code",
      "source": [
        "#co-grouping and applying functions\n",
        "sample=spark.createDataFrame(\n",
        "    [(20000101,1,1.0),(20000101,2,2.0),(20000102,1,3.0),(20000102,2,4.0)],\n",
        "    ('time','id','v1'))\n",
        "sample2=spark.createDataFrame(\n",
        "    [(20000101,1,'x'),(20000101,2,'y'),(20000101,3,'z')],\n",
        "    ('time','id','v2'))\n",
        "def join(l,r):\n",
        "  return pd.merge_asof(l,r,on='time',by='id')\n",
        "sample.groupby('id').cogroup(sample2.groupby('id')).applyInPandas (\n",
        "    join,schema='time int,id int,v1 double,v2 string').show()"
      ],
      "metadata": {
        "colab": {
          "base_uri": "https://localhost:8080/"
        },
        "id": "8dr3Gq_w0Lur",
        "outputId": "5ee0f76c-234a-49c0-ec47-fc1944bb785f"
      },
      "execution_count": null,
      "outputs": [
        {
          "output_type": "stream",
          "name": "stdout",
          "text": [
            "+--------+---+---+---+\n",
            "|    time| id| v1| v2|\n",
            "+--------+---+---+---+\n",
            "|20000101|  1|1.0|  x|\n",
            "|20000102|  1|3.0|  x|\n",
            "|20000101|  2|2.0|  y|\n",
            "|20000102|  2|4.0|  y|\n",
            "+--------+---+---+---+\n",
            "\n"
          ]
        }
      ]
    },
    {
      "cell_type": "code",
      "source": [
        "#getting data in/out\n",
        "#csv\n",
        "df.write.csv('foo.csv',header=True)\n",
        "spark.read.csv('foo.csv',header=True).show()"
      ],
      "metadata": {
        "colab": {
          "base_uri": "https://localhost:8080/"
        },
        "id": "CerA0r0J4YJw",
        "outputId": "01def157-0a46-416c-b8a0-328bfec502ea"
      },
      "execution_count": null,
      "outputs": [
        {
          "output_type": "stream",
          "name": "stdout",
          "text": [
            "+------+----+---+---+\n",
            "|colour|item| v1| v2|\n",
            "+------+----+---+---+\n",
            "|   red| bag|  5| 50|\n",
            "| green|gift|  6| 60|\n",
            "|  pink| toy|  7| 70|\n",
            "|  pink| bag|  8| 80|\n",
            "|   red| box|  9| 90|\n",
            "|   red| toy|  1| 10|\n",
            "|  blue| toy|  2| 20|\n",
            "|   red|gift|  3| 30|\n",
            "|  blue| bag|  4| 40|\n",
            "+------+----+---+---+\n",
            "\n"
          ]
        }
      ]
    },
    {
      "cell_type": "code",
      "source": [
        "#parquet\n",
        "df.write.parquet('bar.parquet')\n",
        "spark.read.parquet('bar.parquet').show()"
      ],
      "metadata": {
        "colab": {
          "base_uri": "https://localhost:8080/"
        },
        "id": "Xwjg_gqB92_M",
        "outputId": "1be8d1e9-d917-4bdd-b8d9-5391f711a35f"
      },
      "execution_count": null,
      "outputs": [
        {
          "output_type": "stream",
          "name": "stdout",
          "text": [
            "+------+----+---+---+\n",
            "|colour|item| v1| v2|\n",
            "+------+----+---+---+\n",
            "|   red| bag|  5| 50|\n",
            "| green|gift|  6| 60|\n",
            "|  pink| toy|  7| 70|\n",
            "|  pink| bag|  8| 80|\n",
            "|   red| box|  9| 90|\n",
            "|   red| toy|  1| 10|\n",
            "|  blue| toy|  2| 20|\n",
            "|   red|gift|  3| 30|\n",
            "|  blue| bag|  4| 40|\n",
            "+------+----+---+---+\n",
            "\n"
          ]
        }
      ]
    },
    {
      "cell_type": "code",
      "source": [
        "#orc\n",
        "df.write.orc('zoo.orc')\n",
        "spark.read.orc('zoo.orc').show()"
      ],
      "metadata": {
        "colab": {
          "base_uri": "https://localhost:8080/"
        },
        "id": "WsO9GCdt-hob",
        "outputId": "98b9ed2e-0379-49a7-ec69-dd61c742d010"
      },
      "execution_count": null,
      "outputs": [
        {
          "output_type": "stream",
          "name": "stdout",
          "text": [
            "+------+----+---+---+\n",
            "|colour|item| v1| v2|\n",
            "+------+----+---+---+\n",
            "|   red| bag|  5| 50|\n",
            "| green|gift|  6| 60|\n",
            "|  pink| toy|  7| 70|\n",
            "|  pink| bag|  8| 80|\n",
            "|   red| box|  9| 90|\n",
            "|   red| toy|  1| 10|\n",
            "|  blue| toy|  2| 20|\n",
            "|   red|gift|  3| 30|\n",
            "|  blue| bag|  4| 40|\n",
            "+------+----+---+---+\n",
            "\n"
          ]
        }
      ]
    },
    {
      "cell_type": "code",
      "source": [
        ""
      ],
      "metadata": {
        "id": "5V_vFY7H-rXy"
      },
      "execution_count": null,
      "outputs": []
    }
  ]
}